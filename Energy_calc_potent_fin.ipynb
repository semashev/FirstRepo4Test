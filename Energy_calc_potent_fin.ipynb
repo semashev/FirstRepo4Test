{
 "cells": [
  {
   "cell_type": "markdown",
   "id": "8a65001f",
   "metadata": {},
   "source": [
    "# Calculation of Earth's Gravitational Energy Change\n",
    "\n",
    "We'll calculate the change in gravitational energy of the Earth due to a small change in its polar radius. The gravitational energy of an ellipsoidal Earth is given by the Landau-Lifshitz formula:\n",
    "\n",
    "$$ U = -\\frac{3 G M^2}{5 \\sqrt{a^2 - c^2}} \\arccos\\left(\\frac{c}{a}\\right) $$\n",
    "\n",
    "where:\n",
    "- \\( G \\) is the gravitational constant,\n",
    "- \\( M \\) is the mass of the Earth,\n",
    "- \\( a \\) is the equatorial radius,\n",
    "- \\( c \\) is the polar radius.\n",
    "\n",
    "We'll use `mpmath` for high-precision calculations. Let's define the constants and functions first.\n"
   ]
  },
  {
   "cell_type": "code",
   "execution_count": 171,
   "id": "0508f9b2",
   "metadata": {},
   "outputs": [],
   "source": [
    "import mpmath as mp\n",
    "\n",
    "# Set precision for mpmath\n",
    "mp.dps = 20\n",
    "\n",
    "# Constants\n",
    "G_val = mp.mpf('6.67384e-11')  # Gravitational constant in m^3 kg^-1 s^-2\n",
    "M_val = mp.mpf('5.9722e24')    # Mass of the Earth in kg\n",
    "\n",
    "# Initial radii\n",
    "a_init_val = mp.mpf('6378136.600') # Initial equatorial radius in meters\n",
    "c_init_val = mp.mpf('6356751.858') # Initial polar radius in meters\n",
    "\n",
    "# Function definitions\n",
    "def ecvatorial_radii_calc(delta_c_val, nu=mp.mpf('0.3')):\n",
    "    # Calculate the change in equatorial radius\n",
    "    relative_change_c = mp.fdiv(delta_c_val, c_init_val)\n",
    "    relative_change_a = mp.fmul(mp.fneg(nu), relative_change_c)\n",
    "    delta_a_val = mp.fmul(relative_change_a, a_init_val)\n",
    "    return delta_a_val\n",
    "\n",
    "def gravitational_energy(a, c):\n",
    "    # Calculate gravitational energy using the Landau-Lifshitz formula\n",
    "    acos_arg = mp.fdiv(c, a)\n",
    "    acos_val = mp.acos(acos_arg)\n",
    "    sqrt_val = mp.sqrt(mp.fsub(mp.fmul(a, a), mp.fmul(c, c)))\n",
    "    denominator = mp.fmul(5, sqrt_val)\n",
    "    U = mp.fmul(mp.fdiv(mp.fmul(mp.fmul(-3, G_val), mp.fmul(M_val, M_val)), denominator), acos_val)\n",
    "    return U\n",
    "\n",
    "def delta_energy(delta_c_val, nu=mp.mpf('0.3')):\n",
    "    # Calculate the change in gravitational energy\n",
    "    delta_a_val = ecvatorial_radii_calc(delta_c_val, nu)\n",
    "    U_init = gravitational_energy(a_init_val, c_init_val)\n",
    "    U_new = gravitational_energy(mp.fadd(a_init_val, delta_a_val), mp.fadd(c_init_val, delta_c_val))\n",
    "    delta_U = mp.fsub(U_new, U_init)\n",
    "    return delta_U\n",
    "\n",
    "# Change in polar radius\n",
    "delta_c_val = mp.mpf('0.000146447144')\n",
    "\n",
    "# Calculate the change in gravitational energy\n",
    "dU = delta_energy(delta_c_val)"
   ]
  },
  {
   "cell_type": "markdown",
   "id": "f95cbff8",
   "metadata": {},
   "source": [
    "## Results\n",
    "\n",
    "Now, let's evaluate the change in gravitational energy for the given change in the polar radius:\n"
   ]
  },
  {
   "cell_type": "code",
   "execution_count": 172,
   "id": "5c72be4e",
   "metadata": {},
   "outputs": [
    {
     "data": {
      "text/plain": [
       "6.846000095761034e+20"
      ]
     },
     "execution_count": 172,
     "metadata": {},
     "output_type": "execute_result"
    }
   ],
   "source": [
    "dU_float = float(dU)\n",
    "dU_float"
   ]
  },
  {
   "cell_type": "code",
   "execution_count": 174,
   "id": "dd579c0c",
   "metadata": {},
   "outputs": [
    {
     "name": "stdout",
     "output_type": "stream",
     "text": [
      "Общая гравитационная энергия Земли без учета сжатия: -9.584217894957784e+27 Дж\n"
     ]
    }
   ],
   "source": [
    "import pandas as pd\n",
    "import numpy as np\n",
    "\n",
    "# Загрузка данных из файла CSV\n",
    "file_path = 'prem_data.csv'\n",
    "data = pd.read_csv(file_path)\n",
    "\n",
    "# Гравитационная постоянная\n",
    "G = 6.67384 * 10**-11  # м^3 кг^-1 с^-2\n",
    "\n",
    "# Эксцентриситет Земли\n",
    "e = 3.2845479 * 10**-3\n",
    "\n",
    "# Функция для расчета массы эллипсоида\n",
    "def calculate_mass(radius, density):\n",
    "    return (4/3) * np.pi * density * (radius * 1000)**3  # Преобразование радиуса в метры\n",
    "\n",
    "# Функция для расчета гравитационной энергии эллипсоида\n",
    "def calculate_gravitational_energy(mass, radius):\n",
    "    if radius > 1:  # Установка минимального порога для радиуса в 1 метр\n",
    "        return -3/5 * G * mass**2 / (radius * 1000) * (1 - e**2 / 3)\n",
    "    else:\n",
    "        return 0  # Возвращаем 0 для очень маленьких или нулевых радиусов\n",
    "\n",
    "# Расчет масс и гравитационных энергий для каждого слоя\n",
    "masses = []\n",
    "energies = []\n",
    "for i in range(len(data) - 1):\n",
    "    outer_layer = data.iloc[i]\n",
    "    inner_layer = data.iloc[i + 1]\n",
    "\n",
    "    outer_mass = calculate_mass(outer_layer['radius'], outer_layer['density'])\n",
    "    inner_mass = calculate_mass(inner_layer['radius'], inner_layer['density'])\n",
    "    layer_mass = outer_mass - inner_mass\n",
    "\n",
    "    layer_energy = calculate_gravitational_energy(layer_mass, outer_layer['radius'])\n",
    "\n",
    "    masses.append(layer_mass)\n",
    "    energies.append(layer_energy)\n",
    "\n",
    "# Суммирование всех энергий для получения общей гравитационной энергии Земли\n",
    "total_gravitational_energy = sum(energies)\n",
    "\n",
    "print(f\"Общая гравитационная энергия Земли: {total_gravitational_energy} Дж\")\n"
   ]
  },
  {
   "cell_type": "code",
   "execution_count": null,
   "id": "b583e39c",
   "metadata": {},
   "outputs": [],
   "source": []
  }
 ],
 "metadata": {
  "kernelspec": {
   "display_name": "Python 3 (ipykernel)",
   "language": "python",
   "name": "python3"
  },
  "language_info": {
   "codemirror_mode": {
    "name": "ipython",
    "version": 3
   },
   "file_extension": ".py",
   "mimetype": "text/x-python",
   "name": "python",
   "nbconvert_exporter": "python",
   "pygments_lexer": "ipython3",
   "version": "3.11.1"
  }
 },
 "nbformat": 4,
 "nbformat_minor": 5
}
